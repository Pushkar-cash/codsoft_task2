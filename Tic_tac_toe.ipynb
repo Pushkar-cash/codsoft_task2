{
  "nbformat": 4,
  "nbformat_minor": 0,
  "metadata": {
    "colab": {
      "provenance": [],
      "include_colab_link": true
    },
    "kernelspec": {
      "name": "python3",
      "display_name": "Python 3"
    },
    "language_info": {
      "name": "python"
    }
  },
  "cells": [
    {
      "cell_type": "markdown",
      "metadata": {
        "id": "view-in-github",
        "colab_type": "text"
      },
      "source": [
        "<a href=\"https://colab.research.google.com/github/Pushkar-cash/codsoft_task2/blob/main/Tic_tac_toe.ipynb\" target=\"_parent\"><img src=\"https://colab.research.google.com/assets/colab-badge.svg\" alt=\"Open In Colab\"/></a>"
      ]
    },
    {
      "cell_type": "code",
      "source": [
        "class TicTacToe:\n",
        "    def __init__(self):\n",
        "        self.board = [' ' for _ in range(9)]\n",
        "        self.current_winner = None\n",
        "\n",
        "    def print_board(self):\n",
        "        for row in [self.board[i*3:(i+1)*3] for i in range(3)]:\n",
        "            print('| ' + ' | '.join(row) + ' |')\n",
        "\n",
        "    def available_moves(self):\n",
        "        return [i for i, spot in enumerate(self.board) if spot == ' ']\n",
        "\n",
        "    def make_move(self, square, letter):\n",
        "        if self.board[square] == ' ':\n",
        "            self.board[square] = letter\n",
        "            if self.winner(square, letter):\n",
        "                self.current_winner = letter\n",
        "            return True\n",
        "        return False\n",
        "\n",
        "    def winner(self, square, letter):\n",
        "\n",
        "        row_ind = square // 3\n",
        "        row = self.board[row_ind*3:(row_ind+1)*3]\n",
        "        if all([spot == letter for spot in row]):\n",
        "            return True\n",
        "\n",
        "        col_ind = square % 3\n",
        "        column = [self.board[col_ind+i*3] for i in range(3)]\n",
        "        if all([spot == letter for spot in column]):\n",
        "            return True\n",
        "\n",
        "\n",
        "        if square % 2 == 0:\n",
        "            diagonal1 = [self.board[i] for i in [0, 4, 8]]\n",
        "            if all([spot == letter for spot in diagonal1]):\n",
        "                return True\n",
        "            diagonal2 = [self.board[i] for i in [2, 4, 6]]\n",
        "            if all([spot == letter for spot in diagonal2]):\n",
        "                return True\n",
        "\n",
        "        return False\n"
      ],
      "metadata": {
        "id": "KrY5qLcnWOMZ"
      },
      "execution_count": null,
      "outputs": []
    },
    {
      "cell_type": "code",
      "source": [
        "import math\n",
        "\n",
        "class AIPlayer:\n",
        "    def __init__(self, letter):\n",
        "        self.letter = letter\n",
        "\n",
        "    def get_move(self, game):\n",
        "        if len(game.available_moves()) == 9:\n",
        "            return 4\n",
        "\n",
        "\n",
        "        _, move = self.minimax(game, -math.inf, math.inf, True)\n",
        "        return move\n",
        "\n",
        "    def minimax(self, state, alpha, beta, maximizing_player):\n",
        "        if state.current_winner == self.letter:\n",
        "            return 1, None\n",
        "        elif state.current_winner is not None:\n",
        "            return -1, None\n",
        "        elif len(state.available_moves()) == 0:\n",
        "            return 0, None\n",
        "\n",
        "        if maximizing_player:\n",
        "            max_eval = -math.inf\n",
        "            best_move = None\n",
        "            for move in state.available_moves():\n",
        "                state.make_move(move, self.letter)\n",
        "                eval, _ = self.minimax(state, alpha, beta, False)\n",
        "                state.board[move] = ' '\n",
        "                max_eval = max(max_eval, eval)\n",
        "                if max_eval >= beta:\n",
        "                    break\n",
        "                if max_eval > alpha:\n",
        "                    alpha = max_eval\n",
        "                    best_move = move\n",
        "            return max_eval, best_move\n",
        "        else:\n",
        "            min_eval = math.inf\n",
        "            best_move = None\n",
        "            for move in state.available_moves():\n",
        "                state.make_move(move, 'O' if self.letter == 'X' else 'X')\n",
        "                eval, _ = self.minimax(state, alpha, beta, True)\n",
        "                state.board[move] = ' '\n",
        "                min_eval = min(min_eval, eval)\n",
        "                if min_eval <= alpha:\n",
        "                    break\n",
        "                if min_eval < beta:\n",
        "                    beta = min_eval\n",
        "                    best_move = move\n",
        "            return min_eval, best_move\n"
      ],
      "metadata": {
        "id": "fPVBfUpXXxXR"
      },
      "execution_count": null,
      "outputs": []
    },
    {
      "cell_type": "code",
      "source": [
        "def play_game():\n",
        "    game = TicTacToe()\n",
        "    ai_player = AIPlayer('X')\n",
        "    current_turn = 'X'\n",
        "\n",
        "    while not game.current_winner:\n",
        "        game.print_board()\n",
        "        print()\n",
        "\n",
        "        if current_turn == 'X':\n",
        "            square = ai_player.get_move(game)\n",
        "            game.make_move(square, 'X')\n",
        "            print(f'AI placed X on square {square}')\n",
        "            print()\n",
        "            current_turn = 'O'\n",
        "        else:\n",
        "            square = int(input('Choose a square (0-8): '))\n",
        "            game.make_move(square, 'O')\n",
        "            print()\n",
        "            current_turn = 'X'\n",
        "\n",
        "    game.print_board()\n",
        "    if game.current_winner == 'X':\n",
        "        print(\"AI wins!\")\n",
        "    elif game.current_winner == 'O':\n",
        "        print(\"Human wins!\")\n",
        "    else:\n",
        "        print(\"It's a tie!\")\n",
        "\n",
        "play_game()\n",
        "\n"
      ],
      "metadata": {
        "colab": {
          "base_uri": "https://localhost:8080/"
        },
        "id": "LopvVZ7fX0eD",
        "outputId": "cd04b1f8-946b-47c5-d926-283905ab8129"
      },
      "execution_count": null,
      "outputs": [
        {
          "output_type": "stream",
          "name": "stdout",
          "text": [
            "|   |   |   |\n",
            "|   |   |   |\n",
            "|   |   |   |\n",
            "\n",
            "AI placed X on square 4\n",
            "\n",
            "|   |   |   |\n",
            "|   | X |   |\n",
            "|   |   |   |\n",
            "\n",
            "Choose a square (0-8): 0\n",
            "\n",
            "| O |   |   |\n",
            "|   | X |   |\n",
            "|   |   |   |\n",
            "\n",
            "AI placed X on square 1\n",
            "\n",
            "| O | X |   |\n",
            "|   | X |   |\n",
            "|   |   |   |\n",
            "AI wins!\n"
          ]
        }
      ]
    }
  ]
}